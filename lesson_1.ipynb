{
  "nbformat": 4,
  "nbformat_minor": 0,
  "metadata": {
    "colab": {
      "provenance": []
    },
    "kernelspec": {
      "name": "python3",
      "display_name": "Python 3"
    },
    "language_info": {
      "name": "python"
    }
  },
  "cells": [
    {
      "cell_type": "code",
      "source": [
        "import math\n",
        "import numpy as np\n",
        "import matplotlib.pyplot as plt"
      ],
      "metadata": {
        "id": "RfgurpiyHkx-"
      },
      "execution_count": 5,
      "outputs": []
    },
    {
      "cell_type": "code",
      "source": [
        "%matplotlib inline"
      ],
      "metadata": {
        "id": "wfT32eUgHuOp"
      },
      "execution_count": 6,
      "outputs": []
    },
    {
      "cell_type": "markdown",
      "source": [
        "***derivative*** : if you slightly bump up input by delta h, how does the function respond?\n",
        "\n"
      ],
      "metadata": {
        "id": "Hdqxp50YY9SF"
      }
    },
    {
      "cell_type": "code",
      "source": [
        "def f(x):\n",
        "  return 3*x**2 - 4*x + 5\n",
        "\n",
        "def test_rise_over_run(x, h):\n",
        "  numerator = (f(x + h) - f(x)) # how much did the function respond\n",
        "  return (f(x + h) - f(x))/h # rise over run == slope\n",
        "test_rise_over_run(x = 3.0, h = 0.001)"
      ],
      "metadata": {
        "colab": {
          "base_uri": "https://localhost:8080/"
        },
        "id": "PLDh364yZNTn",
        "outputId": "8a0c9def-4155-4db1-93e8-6cdd254eb966"
      },
      "execution_count": 8,
      "outputs": [
        {
          "output_type": "execute_result",
          "data": {
            "text/plain": [
              "14.00300000000243"
            ]
          },
          "metadata": {},
          "execution_count": 8
        }
      ]
    },
    {
      "cell_type": "code",
      "source": [
        "xs = np.arange(-5, 5, 0.25)\n",
        "ys = f(xs)\n",
        "plt.plot(xs, ys)"
      ],
      "metadata": {
        "colab": {
          "base_uri": "https://localhost:8080/",
          "height": 447
        },
        "id": "a7JHsmlEYlCp",
        "outputId": "9851a8dd-ad3a-444f-b5d7-3f0bb8fdf62d"
      },
      "execution_count": 9,
      "outputs": [
        {
          "output_type": "execute_result",
          "data": {
            "text/plain": [
              "[<matplotlib.lines.Line2D at 0x7a99edaaede0>]"
            ]
          },
          "metadata": {},
          "execution_count": 9
        },
        {
          "output_type": "display_data",
          "data": {
            "text/plain": [
              "<Figure size 640x480 with 1 Axes>"
            ],
            "image/png": "[encoded data removed]"
          },
          "metadata": {}
        }
      ]
    },
    {
      "cell_type": "code",
      "source": [
        "# how about slope at -3?\n",
        "\n",
        "test_rise_over_run(x = -3.0, h = 0.001)"
      ],
      "metadata": {
        "colab": {
          "base_uri": "https://localhost:8080/"
        },
        "id": "_bXEAh9bZuMy",
        "outputId": "59dc0c1b-c233-4430-b051-c30a5aaceaf6"
      },
      "execution_count": 10,
      "outputs": [
        {
          "output_type": "execute_result",
          "data": {
            "text/plain": [
              "-21.996999999998934"
            ]
          },
          "metadata": {},
          "execution_count": 10
        }
      ]
    },
    {
      "cell_type": "code",
      "source": [
        "# more complex\n",
        "def a_slightly_more_complex_gradient():\n",
        "  #inputs\n",
        "  h = 0.001\n",
        "  a = 2.0\n",
        "  b = -3.0\n",
        "  c = 10.0\n",
        "\n",
        "  d1 =a*b + c\n",
        "  print(d1)\n",
        "\n",
        "  # ---------------------------- derivate of d, wrt a\n",
        "\n",
        "  a += h\n",
        "  d2 = a*b + c\n",
        "  print('d1:', d1)\n",
        "  print('d2: ', d2)\n",
        "  # before we compute the slope, let's build an intuition\n",
        "  # how do we expect the value of d2 to behave if we are bumping a?\n",
        "  # we expect that d2 will be less than d1, given the presence of b which amplifies the negativity of the expression\n",
        "\n",
        "  # what does this tell us about the slope?\n",
        "  # increasing the input by a small margin, reduces our output value, which means our slope at input is facing down slanted towards the right (shape like = \\)\n",
        "  # so the slope should be negative\n",
        "\n",
        "  #slope\n",
        "  slope = (d2 - d1)/h\n",
        "  print('slope wrt a:', slope)\n",
        "\n",
        "  # --------------------------- what about the derivative wrt b?\n",
        "\n",
        "  # mathematically, the derivative of the function wrt b is a, which is a positive number. so if we increase b by delta, our function should increase (be more than 4)\n",
        "\n",
        "  #re-init inputs\n",
        "  a = 2.0\n",
        "  b = -3.0\n",
        "  c = 10.0\n",
        "\n",
        "  d1 =a*b + c\n",
        "  print(d1)\n",
        "\n",
        "  # derivate of d, wrt b\n",
        "  b += h\n",
        "  d2 = a*b + c\n",
        "  print('d1:', d1)\n",
        "  print('d2: ', d2)\n",
        "\n",
        "  #slope\n",
        "  slope = (d2 - d1)/h\n",
        "  print('slope wrt b:', slope)\n",
        "\n",
        "a_slightly_more_complex_gradient()\n",
        "  # mathematically, the derivative of d wrt a is b. and b is negative 3, which is what we get using rise over run above"
      ],
      "metadata": {
        "colab": {
          "base_uri": "https://localhost:8080/"
        },
        "id": "x3Ia_ppRZyib",
        "outputId": "ddebc9ba-3994-455d-abc6-ecda423c012c"
      },
      "execution_count": 12,
      "outputs": [
        {
          "output_type": "stream",
          "name": "stdout",
          "text": [
            "4.0\n",
            "d1: 4.0\n",
            "d2:  3.997\n",
            "slope wrt a: -3.0000000000001137\n",
            "4.0\n",
            "d1: 4.0\n",
            "d2:  4.002\n",
            "slope wrt b: 1.9999999999997797\n"
          ]
        }
      ]
    },
    {
      "cell_type": "code",
      "source": [
        "# let's now build an intuition for neural networks\n",
        "# we need to understand how auto grad works\n",
        "\"\"\"\n",
        "Forward pass creates a new node and a closure that remembers the inputs (we can think of this as pointers to the children).\n",
        "In __add__, we do:\n",
        "  out = Value(self.data + other.data, (self, other), '+')\n",
        "  def _backward():\n",
        "      self.grad += 1.0 * out.grad\n",
        "      other.grad += 1.0 * out.grad\n",
        "  out._backward = _backward\n",
        "\n",
        "That _backward is a closure that holds references to three objects: self, other, and out. They’re the same Value instances we used to create out.\n",
        "\n",
        "\n",
        "Later, during backprop, when we call _backward, Python resolves self and other (their pointers) from the closure’s captured environment.\n",
        "Because Value instances are mutable, self.grad += ... directly updates the original nodes’ gradients.\n",
        "\n",
        "We used += because a node can feed into multiple parents (fan-out). Gradients from multiple paths must sum (chain rule over a DAG).\n",
        "\n",
        "Each operation creates a new node (out) and installs a \"_backward\" that knows how to push \"out.grad\" into its own inputs (self, other).\n",
        "Nodes don’t coordinate horizontally; the graph structure and topo order handle the orchestration.\n",
        "\"\"\""
      ],
      "metadata": {
        "id": "kCJgKuvecBFi",
        "colab": {
          "base_uri": "https://localhost:8080/",
          "height": 120
        },
        "outputId": "29e7dfe3-ce29-4e8b-80ba-94f3de90a3e4"
      },
      "execution_count": 56,
      "outputs": [
        {
          "output_type": "execute_result",
          "data": {
            "text/plain": [
              "'\\nForward pass creates a new node and a closure that remembers the inputs (we can think of this as pointers to the children).\\nIn __add__, we do:\\n  out = Value(self.data + other.data, (self, other), \\'+\\')\\n  def _backward():\\n      self.grad += 1.0 * out.grad\\n      other.grad += 1.0 * out.grad\\n  out._backward = _backward\\n\\nThat _backward is a closure that holds references to three objects: self, other, and out. They’re the same Value instances we used to create out.\\n\\n\\nLater, during backprop, when we call _backward, Python resolves self and other (their pointers) from the closure’s captured environment. \\nBecause Value instances are mutable, self.grad += ... directly updates the original nodes’ gradients.\\n\\nWe used += because a node can feed into multiple parents (fan-out). Gradients from multiple paths must sum (chain rule over a DAG).\\n\\nEach operation creates a new node (out) and installs a \"_backward\" that knows how to push \"out.grad\" into its own inputs (self, other).\\nNodes don’t coordinate horizontally; the graph structure and topo order handle the orchestration.\\n'"
            ],
            "application/vnd.google.colaboratory.intrinsic+json": {
              "type": "string"
            }
          },
          "metadata": {},
          "execution_count": 56
        }
      ]
    },
    {
      "cell_type": "code",
      "source": [
        "# in python, we need to use double underscores to define operators on the class\n",
        "class Value:\n",
        "  def __init__(self, data, _children=(), _op='', label=''):\n",
        "    self.data = data\n",
        "    self._prev = set(_children)\n",
        "    self._op = _op\n",
        "    self.label = label\n",
        "    self.grad = 0.0 # at init, the value doesn't affect the output\n",
        "    self._backward = lambda: None # default is that it is a function that does nothing\n",
        "\n",
        "  def __repr__(self):\n",
        "    return f\"Value(data={self.data},label={self.label},op={self._op})\"\n",
        "\n",
        "  def __add__(self, other):\n",
        "    other = other if isinstance(other, Value) else Value(other) # assuming that if other is not a value, it is numeric\n",
        "    out = Value(self.data + other.data, (self, other), '+')\n",
        "    def _backward():\n",
        "      self.grad += 1.0 * out.grad # we are adding to the grad here because self.grad can be updated from multiple upstream nodes and we need to account for all those linkages\n",
        "      other.grad += 1.0 * out.grad\n",
        "    out._backward = _backward\n",
        "    return out\n",
        "\n",
        "  def __radd__(self, other): # other * self, python falls back to this if it can't do self * other\n",
        "    return self + other\n",
        "\n",
        "  def __mul__(self, other):\n",
        "    other = other if isinstance(other, Value) else Value(other) # assuming that if other is not a value, it is numeric\n",
        "    out = Value(self.data*other.data, (self, other), '*')\n",
        "    def _backward():\n",
        "      self.grad += other.data * out.grad\n",
        "      other.grad += self.data * out.grad\n",
        "    out._backward = _backward\n",
        "    return out\n",
        "\n",
        "  # a * 2 works because python maps it to a.__mul__(2)\n",
        "  # 2 * a doesn't work because python maps it to 2.__mul__(a) and __mul__ is not defined on integers\n",
        "  # to get around this, we create rmul, which is the fallback python uses if it can't find __mul__ when computing 2 * a\n",
        "  # at that point it calls a.__rmul__(2)\n",
        "  # the same concept holds true for __radd__\n",
        "  def __rmul__(self, other):\n",
        "    return self * other\n",
        "\n",
        "  # other is the power by which self is called\n",
        "  def __pow__(self, other):\n",
        "    assert isinstance(other, (int, float)), \"only supporting integers and floating points\"\n",
        "    out = Value(self.data ** other, (self, ), f'**{other}')\n",
        "    def _backward():\n",
        "      self.grad = (other * self.data ** (other - 1)) * out.grad\n",
        "\n",
        "    out._backward = _backward\n",
        "    return out\n",
        "\n",
        "  def __neg__(self):\n",
        "    return self * -1\n",
        "\n",
        "  # self - other\n",
        "  def __sub__(self, other):\n",
        "    return self + (-other)\n",
        "\n",
        "  def exp(self):\n",
        "    x = self.data\n",
        "    out = Value(math.exp(x), (self, ), 'exp')\n",
        "\n",
        "    def _backward():\n",
        "      self.grad = out.grad * out.data # chain rule\n",
        "    out._backward = _backward\n",
        "    return out\n",
        "\n",
        "  def __truediv__(self, other): # self / other\n",
        "    return self * (other**-1) # a / b = a * (1 / b) = a * ( b ** -1)\n",
        "\n",
        "  def tanh(self):\n",
        "    t = (math.exp(2 * self.data) - 1)/ (math.exp(2 * self.data) + 1)\n",
        "    out = Value(t, (self, ), 'tanh'  )\n",
        "    def _backward():\n",
        "      self.grad += (1 - t**2) * out.grad\n",
        "    out._backward = _backward\n",
        "    return out\n",
        "\n",
        "  def backward(self):\n",
        "    topo = []\n",
        "    visited = set()\n",
        "    def build_topo(v):\n",
        "      if v not in visited:\n",
        "        visited.add(v)\n",
        "        for child in v._prev:\n",
        "          build_topo(child)\n",
        "        topo.append(v)\n",
        "    build_topo(self)\n",
        "    # ---- start backprop\n",
        "    self.grad = 1.0\n",
        "    for node in reversed(topo):\n",
        "      node._backward()"
      ],
      "metadata": {
        "id": "dihGWPzMcP9d"
      },
      "execution_count": 111,
      "outputs": []
    },
    {
      "cell_type": "code",
      "source": [
        "a = Value (2.0)\n",
        "a + 1\n",
        "1 + a # works because we added radd"
      ],
      "metadata": {
        "colab": {
          "base_uri": "https://localhost:8080/"
        },
        "id": "AIJECSdE6gwB",
        "outputId": "f5a2734d-4cdc-4cde-d4da-51dda7e403cf"
      },
      "execution_count": 112,
      "outputs": [
        {
          "output_type": "execute_result",
          "data": {
            "text/plain": [
              "Value(data=3.0,label=,op=+)"
            ]
          },
          "metadata": {},
          "execution_count": 112
        }
      ]
    },
    {
      "cell_type": "code",
      "source": [
        "a = Value (2.0)\n",
        "a * 3\n",
        "3 * a # works because we added rmul"
      ],
      "metadata": {
        "colab": {
          "base_uri": "https://localhost:8080/"
        },
        "id": "FsaBuisu6oWK",
        "outputId": "38fd1891-fec6-469d-ed34-da9683b76215"
      },
      "execution_count": 113,
      "outputs": [
        {
          "output_type": "execute_result",
          "data": {
            "text/plain": [
              "Value(data=6.0,label=,op=*)"
            ]
          },
          "metadata": {},
          "execution_count": 113
        }
      ]
    },
    {
      "cell_type": "code",
      "source": [
        "a = Value(2.0)\n",
        "b = Value(4.0)\n",
        "a / b"
      ],
      "metadata": {
        "colab": {
          "base_uri": "https://localhost:8080/"
        },
        "id": "OwGzgKsGEepE",
        "outputId": "ccb4c5c9-28e5-42b4-dbea-7e51794b0562"
      },
      "execution_count": 114,
      "outputs": [
        {
          "output_type": "execute_result",
          "data": {
            "text/plain": [
              "Value(data=0.5,label=,op=*)"
            ]
          },
          "metadata": {},
          "execution_count": 114
        }
      ]
    },
    {
      "cell_type": "code",
      "source": [
        "a = Value(2.0)\n",
        "b = Value(4.0)\n",
        "a - b"
      ],
      "metadata": {
        "colab": {
          "base_uri": "https://localhost:8080/"
        },
        "id": "cpiPmV8IE1oL",
        "outputId": "1df1789e-a26a-454e-acd9-0dea2f93cad0"
      },
      "execution_count": 115,
      "outputs": [
        {
          "output_type": "execute_result",
          "data": {
            "text/plain": [
              "Value(data=-2.0,label=,op=+)"
            ]
          },
          "metadata": {},
          "execution_count": 115
        }
      ]
    },
    {
      "cell_type": "code",
      "source": [
        "# let's now build a connection graph between these values"
      ],
      "metadata": {
        "id": "l6w-d9-JdGot"
      },
      "execution_count": 116,
      "outputs": []
    },
    {
      "cell_type": "code",
      "source": [
        "from graphviz import Digraph\n",
        "\n",
        "def trace(root):\n",
        "  nodes, edges = set(), set()\n",
        "  def build(v):\n",
        "    if v not in nodes:\n",
        "      nodes.add(v)\n",
        "      for child in v._prev:\n",
        "        edges.add((child,v))\n",
        "        build(child)\n",
        "  build(root)\n",
        "  return nodes, edges\n",
        "\n",
        "def draw_dot(root):\n",
        "  dot = Digraph(format='svg', graph_attr={'rankdir':'LR'}) # LR is left to right\n",
        "  nodes, edges = trace(root)\n",
        "  for n in nodes:\n",
        "    uid = str(id(n))\n",
        "    dot.node(name = uid, label = \"{%s | data %.4f  | grad %.4f }\" % (n.label, n.data, n.grad), shape='record')\n",
        "    if n._op:\n",
        "      dot.node(name = uid + n._op, label = n._op)\n",
        "      dot.edge(uid + n._op, uid)\n",
        "  for n1, n2 in edges:\n",
        "      dot.edge(str(id(n1)), str(id(n2)) + n2._op)\n",
        "  return dot"
      ],
      "metadata": {
        "id": "pl_T8Yt7fNxw"
      },
      "execution_count": 117,
      "outputs": []
    },
    {
      "cell_type": "code",
      "source": [
        "# we now do backprop\n",
        "# derivative of L (loss function) wrt to other nodes\n",
        "# in NN, we are interested in the derivative of this loss function against neuron weights in the network"
      ],
      "metadata": {
        "id": "SMxTU4NcgN_7"
      },
      "execution_count": 118,
      "outputs": []
    },
    {
      "cell_type": "code",
      "source": [
        "# first step: what's the derivative of L wrt L?\n",
        "\n",
        "def manually_computing_derivaties():\n",
        "  h = 0.001\n",
        "\n",
        "  a = Value(2.0, label='a')\n",
        "  b = Value(-3.0, label='b')\n",
        "  c = Value(10.0, label='c')\n",
        "  e = a*b; e.label = 'e'\n",
        "  d = e + c;  d.label = 'd'\n",
        "  f = Value(-2.0, label='f')\n",
        "  L = d*f; L.label='L'\n",
        "  L1 = L.data\n",
        "  print(\"L1: \", L1)\n",
        "\n",
        "  a = Value(2.0, label='a')\n",
        "  b = Value(-3.0, label='b')\n",
        "  c = Value(10.0, label='c');\n",
        "  e = a*b; e.label = 'e'\n",
        "  d = e + c;  d.label = 'd'; d.data\n",
        "  f = Value(-2.0, label='f')\n",
        "  L = d*f; L.label='L'\n",
        "  L2 = L.data + h\n",
        "  print(\"L2: \", L2)\n",
        "  print((L2 - L1)/h)\n",
        "\n",
        "manually_computing_derivaties()\n",
        "# we can modify the above function to get the derivate of L wrt to something else like 'a'. we only need to bump up 'a' by 'h'"
      ],
      "metadata": {
        "colab": {
          "base_uri": "https://localhost:8080/"
        },
        "id": "yF3NIWvTBpCU",
        "outputId": "09bfd622-966a-4c17-fc72-be82f707105a"
      },
      "execution_count": 80,
      "outputs": [
        {
          "output_type": "stream",
          "name": "stdout",
          "text": [
            "L1:  -8.0\n",
            "L2:  -7.999\n",
            "1.000000000000334\n"
          ]
        }
      ]
    },
    {
      "cell_type": "code",
      "source": [
        "# inputs\n",
        "x1 = Value(2.0, label = 'x1')\n",
        "x2 = Value(0.0, label ='x2')\n",
        "\n",
        "# weights\n",
        "w1 = Value(-3.0, label = 'w1')\n",
        "w2 = Value(1.0, label = 'w2')\n",
        "\n",
        "# bias of the neuron\n",
        "b = Value(6.88137, label = 'b')\n",
        "\n",
        "#x1w1 + x2w2 + b\n",
        "\n",
        "x1w1 = x1 * w1; x1w1.label = 'x1w1'\n",
        "x2w2 = x2 * w2; x2w2.label = 'x2w2'\n",
        "x1w1x2w2 = x1w1 + x2w2; x1w1x2w2.label = 'x1w1x2w2'\n",
        "n = x1w1x2w2 + b; n.label = 'n'\n",
        "o = n.tanh(); o.label = 'o'"
      ],
      "metadata": {
        "id": "RPe4v1G_CZVX"
      },
      "execution_count": 120,
      "outputs": []
    },
    {
      "cell_type": "code",
      "source": [
        "draw_dot(o)"
      ],
      "metadata": {
        "colab": {
          "base_uri": "https://localhost:8080/",
          "height": 321
        },
        "id": "uMdqJo41MQ5S",
        "outputId": "9f6f355b-f823-4e6e-b714-6c69a0cbcae3"
      },
      "execution_count": 121,
      "outputs": [
        {
          "output_type": "execute_result",
          "data": {
            "image/svg+xml": "<?xml version=\"1.0\" encoding=\"UTF-8\" standalone=\"no\"?>\n<!DOCTYPE svg PUBLIC \"-//W3C//DTD SVG 1.1//EN\"\n \"http://www.w3.org/Graphics/SVG/1.1/DTD/svg11.dtd\">\n<!-- Generated by graphviz version 2.43.0 (0)\n -->\n<!-- Title: %3 Pages: 1 -->\n<svg width=\"1540pt\" height=\"210pt\"\n viewBox=\"0.00 0.00 1540.00 210.00\" xmlns=\"http://www.w3.org/2000/svg\" xmlns:xlink=\"http://www.w3.org/1999/xlink\">\n<g id=\"graph0\" class=\"graph\" transform=\"scale(1 1) rotate(0) translate(4 206)\">\n<title>%3</title>\n<polygon fill=\"white\" stroke=\"transparent\" points=\"-4,4 -4,-206 1536,-206 1536,4 -4,4\"/>\n<!-- 134797364779568 -->\n<g id=\"node1\" class=\"node\">\n<title>134797364779568</title>\n<polygon fill=\"none\" stroke=\"black\" points=\"2.5,-165.5 2.5,-201.5 197.5,-201.5 197.5,-165.5 2.5,-165.5\"/>\n<text text-anchor=\"middle\" x=\"19\" y=\"-179.8\" font-family=\"Times,serif\" font-size=\"14.00\">w2</text>\n<polyline fill=\"none\" stroke=\"black\" points=\"35.5,-165.5 35.5,-201.5 \"/>\n<text text-anchor=\"middle\" x=\"75.5\" y=\"-179.8\" font-family=\"Times,serif\" font-size=\"14.00\">data 1.0000</text>\n<polyline fill=\"none\" stroke=\"black\" points=\"115.5,-165.5 115.5,-201.5 \"/>\n<text text-anchor=\"middle\" x=\"156.5\" y=\"-179.8\" font-family=\"Times,serif\" font-size=\"14.00\">grad 0.0000</text>\n</g>\n<!-- 134797364782016* -->\n<g id=\"node15\" class=\"node\">\n<title>134797364782016*</title>\n<ellipse fill=\"none\" stroke=\"black\" cx=\"263\" cy=\"-128.5\" rx=\"27\" ry=\"18\"/>\n<text text-anchor=\"middle\" x=\"263\" y=\"-124.8\" font-family=\"Times,serif\" font-size=\"14.00\">*</text>\n</g>\n<!-- 134797364779568&#45;&gt;134797364782016* -->\n<g id=\"edge7\" class=\"edge\">\n<title>134797364779568&#45;&gt;134797364782016*</title>\n<path fill=\"none\" stroke=\"black\" d=\"M172.53,-165.44C181.84,-162.67 191.2,-159.67 200,-156.5 210.53,-152.71 221.75,-147.9 231.72,-143.33\"/>\n<polygon fill=\"black\" stroke=\"black\" points=\"233.25,-146.48 240.82,-139.07 230.28,-140.14 233.25,-146.48\"/>\n</g>\n<!-- 134797364783696 -->\n<g id=\"node2\" class=\"node\">\n<title>134797364783696</title>\n<polygon fill=\"none\" stroke=\"black\" points=\"326,-55.5 326,-91.5 540,-91.5 540,-55.5 326,-55.5\"/>\n<text text-anchor=\"middle\" x=\"349.5\" y=\"-69.8\" font-family=\"Times,serif\" font-size=\"14.00\">x1w1</text>\n<polyline fill=\"none\" stroke=\"black\" points=\"373,-55.5 373,-91.5 \"/>\n<text text-anchor=\"middle\" x=\"415.5\" y=\"-69.8\" font-family=\"Times,serif\" font-size=\"14.00\">data &#45;6.0000</text>\n<polyline fill=\"none\" stroke=\"black\" points=\"458,-55.5 458,-91.5 \"/>\n<text text-anchor=\"middle\" x=\"499\" y=\"-69.8\" font-family=\"Times,serif\" font-size=\"14.00\">grad 0.0000</text>\n</g>\n<!-- 134797364779280+ -->\n<g id=\"node10\" class=\"node\">\n<title>134797364779280+</title>\n<ellipse fill=\"none\" stroke=\"black\" cx=\"603\" cy=\"-100.5\" rx=\"27\" ry=\"18\"/>\n<text text-anchor=\"middle\" x=\"603\" y=\"-96.8\" font-family=\"Times,serif\" font-size=\"14.00\">+</text>\n</g>\n<!-- 134797364783696&#45;&gt;134797364779280+ -->\n<g id=\"edge10\" class=\"edge\">\n<title>134797364783696&#45;&gt;134797364779280+</title>\n<path fill=\"none\" stroke=\"black\" d=\"M540.4,-90.6C549.72,-92.1 558.65,-93.53 566.68,-94.82\"/>\n<polygon fill=\"black\" stroke=\"black\" points=\"566.24,-98.3 576.66,-96.43 567.35,-91.39 566.24,-98.3\"/>\n</g>\n<!-- 134797364783696* -->\n<g id=\"node3\" class=\"node\">\n<title>134797364783696*</title>\n<ellipse fill=\"none\" stroke=\"black\" cx=\"263\" cy=\"-73.5\" rx=\"27\" ry=\"18\"/>\n<text text-anchor=\"middle\" x=\"263\" y=\"-69.8\" font-family=\"Times,serif\" font-size=\"14.00\">*</text>\n</g>\n<!-- 134797364783696*&#45;&gt;134797364783696 -->\n<g id=\"edge1\" class=\"edge\">\n<title>134797364783696*&#45;&gt;134797364783696</title>\n<path fill=\"none\" stroke=\"black\" d=\"M290.25,-73.5C297.7,-73.5 306.34,-73.5 315.59,-73.5\"/>\n<polygon fill=\"black\" stroke=\"black\" points=\"315.84,-77 325.84,-73.5 315.84,-70 315.84,-77\"/>\n</g>\n<!-- 134797364782208 -->\n<g id=\"node4\" class=\"node\">\n<title>134797364782208</title>\n<polygon fill=\"none\" stroke=\"black\" points=\"1036,-54.5 1036,-90.5 1221,-90.5 1221,-54.5 1036,-54.5\"/>\n<text text-anchor=\"middle\" x=\"1047.5\" y=\"-68.8\" font-family=\"Times,serif\" font-size=\"14.00\">n</text>\n<polyline fill=\"none\" stroke=\"black\" points=\"1059,-54.5 1059,-90.5 \"/>\n<text text-anchor=\"middle\" x=\"1099\" y=\"-68.8\" font-family=\"Times,serif\" font-size=\"14.00\">data 0.8814</text>\n<polyline fill=\"none\" stroke=\"black\" points=\"1139,-54.5 1139,-90.5 \"/>\n<text text-anchor=\"middle\" x=\"1180\" y=\"-68.8\" font-family=\"Times,serif\" font-size=\"14.00\">grad 0.0000</text>\n</g>\n<!-- 134797364786096tanh -->\n<g id=\"node13\" class=\"node\">\n<title>134797364786096tanh</title>\n<ellipse fill=\"none\" stroke=\"black\" cx=\"1284\" cy=\"-72.5\" rx=\"27\" ry=\"18\"/>\n<text text-anchor=\"middle\" x=\"1284\" y=\"-68.8\" font-family=\"Times,serif\" font-size=\"14.00\">tanh</text>\n</g>\n<!-- 134797364782208&#45;&gt;134797364786096tanh -->\n<g id=\"edge6\" class=\"edge\">\n<title>134797364782208&#45;&gt;134797364786096tanh</title>\n<path fill=\"none\" stroke=\"black\" d=\"M1221.01,-72.5C1230.01,-72.5 1238.74,-72.5 1246.66,-72.5\"/>\n<polygon fill=\"black\" stroke=\"black\" points=\"1246.91,-76 1256.91,-72.5 1246.91,-69 1246.91,-76\"/>\n</g>\n<!-- 134797364782208+ -->\n<g id=\"node5\" class=\"node\">\n<title>134797364782208+</title>\n<ellipse fill=\"none\" stroke=\"black\" cx=\"973\" cy=\"-72.5\" rx=\"27\" ry=\"18\"/>\n<text text-anchor=\"middle\" x=\"973\" y=\"-68.8\" font-family=\"Times,serif\" font-size=\"14.00\">+</text>\n</g>\n<!-- 134797364782208+&#45;&gt;134797364782208 -->\n<g id=\"edge2\" class=\"edge\">\n<title>134797364782208+&#45;&gt;134797364782208</title>\n<path fill=\"none\" stroke=\"black\" d=\"M1000.04,-72.5C1007.58,-72.5 1016.3,-72.5 1025.57,-72.5\"/>\n<polygon fill=\"black\" stroke=\"black\" points=\"1025.81,-76 1035.81,-72.5 1025.81,-69 1025.81,-76\"/>\n</g>\n<!-- 134797364781200 -->\n<g id=\"node6\" class=\"node\">\n<title>134797364781200</title>\n<polygon fill=\"none\" stroke=\"black\" points=\"4,-110.5 4,-146.5 196,-146.5 196,-110.5 4,-110.5\"/>\n<text text-anchor=\"middle\" x=\"19\" y=\"-124.8\" font-family=\"Times,serif\" font-size=\"14.00\">x2</text>\n<polyline fill=\"none\" stroke=\"black\" points=\"34,-110.5 34,-146.5 \"/>\n<text text-anchor=\"middle\" x=\"74\" y=\"-124.8\" font-family=\"Times,serif\" font-size=\"14.00\">data 0.0000</text>\n<polyline fill=\"none\" stroke=\"black\" points=\"114,-110.5 114,-146.5 \"/>\n<text text-anchor=\"middle\" x=\"155\" y=\"-124.8\" font-family=\"Times,serif\" font-size=\"14.00\">grad 0.0000</text>\n</g>\n<!-- 134797364781200&#45;&gt;134797364782016* -->\n<g id=\"edge9\" class=\"edge\">\n<title>134797364781200&#45;&gt;134797364782016*</title>\n<path fill=\"none\" stroke=\"black\" d=\"M196.05,-128.5C206.52,-128.5 216.65,-128.5 225.71,-128.5\"/>\n<polygon fill=\"black\" stroke=\"black\" points=\"225.79,-132 235.79,-128.5 225.79,-125 225.79,-132\"/>\n</g>\n<!-- 134797364773520 -->\n<g id=\"node7\" class=\"node\">\n<title>134797364773520</title>\n<polygon fill=\"none\" stroke=\"black\" points=\"695.5,-27.5 695.5,-63.5 880.5,-63.5 880.5,-27.5 695.5,-27.5\"/>\n<text text-anchor=\"middle\" x=\"707\" y=\"-41.8\" font-family=\"Times,serif\" font-size=\"14.00\">b</text>\n<polyline fill=\"none\" stroke=\"black\" points=\"718.5,-27.5 718.5,-63.5 \"/>\n<text text-anchor=\"middle\" x=\"758.5\" y=\"-41.8\" font-family=\"Times,serif\" font-size=\"14.00\">data 6.8814</text>\n<polyline fill=\"none\" stroke=\"black\" points=\"798.5,-27.5 798.5,-63.5 \"/>\n<text text-anchor=\"middle\" x=\"839.5\" y=\"-41.8\" font-family=\"Times,serif\" font-size=\"14.00\">grad 0.0000</text>\n</g>\n<!-- 134797364773520&#45;&gt;134797364782208+ -->\n<g id=\"edge13\" class=\"edge\">\n<title>134797364773520&#45;&gt;134797364782208+</title>\n<path fill=\"none\" stroke=\"black\" d=\"M880.77,-59.04C900.52,-61.95 920.26,-64.87 936.29,-67.23\"/>\n<polygon fill=\"black\" stroke=\"black\" points=\"935.86,-70.71 946.26,-68.7 936.88,-63.78 935.86,-70.71\"/>\n</g>\n<!-- 134797364781824 -->\n<g id=\"node8\" class=\"node\">\n<title>134797364781824</title>\n<polygon fill=\"none\" stroke=\"black\" points=\"0,-55.5 0,-91.5 200,-91.5 200,-55.5 0,-55.5\"/>\n<text text-anchor=\"middle\" x=\"16.5\" y=\"-69.8\" font-family=\"Times,serif\" font-size=\"14.00\">w1</text>\n<polyline fill=\"none\" stroke=\"black\" points=\"33,-55.5 33,-91.5 \"/>\n<text text-anchor=\"middle\" x=\"75.5\" y=\"-69.8\" font-family=\"Times,serif\" font-size=\"14.00\">data &#45;3.0000</text>\n<polyline fill=\"none\" stroke=\"black\" points=\"118,-55.5 118,-91.5 \"/>\n<text text-anchor=\"middle\" x=\"159\" y=\"-69.8\" font-family=\"Times,serif\" font-size=\"14.00\">grad 0.0000</text>\n</g>\n<!-- 134797364781824&#45;&gt;134797364783696* -->\n<g id=\"edge12\" class=\"edge\">\n<title>134797364781824&#45;&gt;134797364783696*</title>\n<path fill=\"none\" stroke=\"black\" d=\"M200.21,-73.5C209.2,-73.5 217.86,-73.5 225.7,-73.5\"/>\n<polygon fill=\"black\" stroke=\"black\" points=\"225.85,-77 235.85,-73.5 225.85,-70 225.85,-77\"/>\n</g>\n<!-- 134797364779280 -->\n<g id=\"node9\" class=\"node\">\n<title>134797364779280</title>\n<polygon fill=\"none\" stroke=\"black\" points=\"666,-82.5 666,-118.5 910,-118.5 910,-82.5 666,-82.5\"/>\n<text text-anchor=\"middle\" x=\"704.5\" y=\"-96.8\" font-family=\"Times,serif\" font-size=\"14.00\">x1w1x2w2</text>\n<polyline fill=\"none\" stroke=\"black\" points=\"743,-82.5 743,-118.5 \"/>\n<text text-anchor=\"middle\" x=\"785.5\" y=\"-96.8\" font-family=\"Times,serif\" font-size=\"14.00\">data &#45;6.0000</text>\n<polyline fill=\"none\" stroke=\"black\" points=\"828,-82.5 828,-118.5 \"/>\n<text text-anchor=\"middle\" x=\"869\" y=\"-96.8\" font-family=\"Times,serif\" font-size=\"14.00\">grad 0.0000</text>\n</g>\n<!-- 134797364779280&#45;&gt;134797364782208+ -->\n<g id=\"edge8\" class=\"edge\">\n<title>134797364779280&#45;&gt;134797364782208+</title>\n<path fill=\"none\" stroke=\"black\" d=\"M906.71,-82.49C917.38,-80.86 927.53,-79.3 936.51,-77.93\"/>\n<polygon fill=\"black\" stroke=\"black\" points=\"937.13,-81.38 946.48,-76.4 936.07,-74.46 937.13,-81.38\"/>\n</g>\n<!-- 134797364779280+&#45;&gt;134797364779280 -->\n<g id=\"edge3\" class=\"edge\">\n<title>134797364779280+&#45;&gt;134797364779280</title>\n<path fill=\"none\" stroke=\"black\" d=\"M630.22,-100.5C637.7,-100.5 646.4,-100.5 655.79,-100.5\"/>\n<polygon fill=\"black\" stroke=\"black\" points=\"655.8,-104 665.8,-100.5 655.8,-97 655.8,-104\"/>\n</g>\n<!-- 134797364774672 -->\n<g id=\"node11\" class=\"node\">\n<title>134797364774672</title>\n<polygon fill=\"none\" stroke=\"black\" points=\"4,-0.5 4,-36.5 196,-36.5 196,-0.5 4,-0.5\"/>\n<text text-anchor=\"middle\" x=\"19\" y=\"-14.8\" font-family=\"Times,serif\" font-size=\"14.00\">x1</text>\n<polyline fill=\"none\" stroke=\"black\" points=\"34,-0.5 34,-36.5 \"/>\n<text text-anchor=\"middle\" x=\"74\" y=\"-14.8\" font-family=\"Times,serif\" font-size=\"14.00\">data 2.0000</text>\n<polyline fill=\"none\" stroke=\"black\" points=\"114,-0.5 114,-36.5 \"/>\n<text text-anchor=\"middle\" x=\"155\" y=\"-14.8\" font-family=\"Times,serif\" font-size=\"14.00\">grad 0.0000</text>\n</g>\n<!-- 134797364774672&#45;&gt;134797364783696* -->\n<g id=\"edge14\" class=\"edge\">\n<title>134797364774672&#45;&gt;134797364783696*</title>\n<path fill=\"none\" stroke=\"black\" d=\"M169.28,-36.5C179.65,-39.61 190.16,-42.98 200,-46.5 210.28,-50.17 221.28,-54.74 231.11,-59.07\"/>\n<polygon fill=\"black\" stroke=\"black\" points=\"229.93,-62.37 240.48,-63.27 232.79,-55.99 229.93,-62.37\"/>\n</g>\n<!-- 134797364786096 -->\n<g id=\"node12\" class=\"node\">\n<title>134797364786096</title>\n<polygon fill=\"none\" stroke=\"black\" points=\"1347,-54.5 1347,-90.5 1532,-90.5 1532,-54.5 1347,-54.5\"/>\n<text text-anchor=\"middle\" x=\"1358.5\" y=\"-68.8\" font-family=\"Times,serif\" font-size=\"14.00\">o</text>\n<polyline fill=\"none\" stroke=\"black\" points=\"1370,-54.5 1370,-90.5 \"/>\n<text text-anchor=\"middle\" x=\"1410\" y=\"-68.8\" font-family=\"Times,serif\" font-size=\"14.00\">data 0.7071</text>\n<polyline fill=\"none\" stroke=\"black\" points=\"1450,-54.5 1450,-90.5 \"/>\n<text text-anchor=\"middle\" x=\"1491\" y=\"-68.8\" font-family=\"Times,serif\" font-size=\"14.00\">grad 0.0000</text>\n</g>\n<!-- 134797364786096tanh&#45;&gt;134797364786096 -->\n<g id=\"edge4\" class=\"edge\">\n<title>134797364786096tanh&#45;&gt;134797364786096</title>\n<path fill=\"none\" stroke=\"black\" d=\"M1311.04,-72.5C1318.58,-72.5 1327.3,-72.5 1336.57,-72.5\"/>\n<polygon fill=\"black\" stroke=\"black\" points=\"1336.81,-76 1346.81,-72.5 1336.81,-69 1336.81,-76\"/>\n</g>\n<!-- 134797364782016 -->\n<g id=\"node14\" class=\"node\">\n<title>134797364782016</title>\n<polygon fill=\"none\" stroke=\"black\" points=\"328.5,-110.5 328.5,-146.5 537.5,-146.5 537.5,-110.5 328.5,-110.5\"/>\n<text text-anchor=\"middle\" x=\"352\" y=\"-124.8\" font-family=\"Times,serif\" font-size=\"14.00\">x2w2</text>\n<polyline fill=\"none\" stroke=\"black\" points=\"375.5,-110.5 375.5,-146.5 \"/>\n<text text-anchor=\"middle\" x=\"415.5\" y=\"-124.8\" font-family=\"Times,serif\" font-size=\"14.00\">data 0.0000</text>\n<polyline fill=\"none\" stroke=\"black\" points=\"455.5,-110.5 455.5,-146.5 \"/>\n<text text-anchor=\"middle\" x=\"496.5\" y=\"-124.8\" font-family=\"Times,serif\" font-size=\"14.00\">grad 0.0000</text>\n</g>\n<!-- 134797364782016&#45;&gt;134797364779280+ -->\n<g id=\"edge11\" class=\"edge\">\n<title>134797364782016&#45;&gt;134797364779280+</title>\n<path fill=\"none\" stroke=\"black\" d=\"M537.53,-111.25C547.8,-109.53 557.66,-107.89 566.45,-106.43\"/>\n<polygon fill=\"black\" stroke=\"black\" points=\"567.3,-109.83 576.59,-104.74 566.15,-102.93 567.3,-109.83\"/>\n</g>\n<!-- 134797364782016*&#45;&gt;134797364782016 -->\n<g id=\"edge5\" class=\"edge\">\n<title>134797364782016*&#45;&gt;134797364782016</title>\n<path fill=\"none\" stroke=\"black\" d=\"M290.25,-128.5C298.43,-128.5 308.03,-128.5 318.31,-128.5\"/>\n<polygon fill=\"black\" stroke=\"black\" points=\"318.35,-132 328.35,-128.5 318.35,-125 318.35,-132\"/>\n</g>\n</g>\n</svg>\n",
            "text/plain": [
              "<graphviz.graphs.Digraph at 0x7a98f50b5fa0>"
            ]
          },
          "metadata": {},
          "execution_count": 121
        }
      ]
    },
    {
      "cell_type": "code",
      "source": [
        "# now we'll do backprop which means we'll compute the derivative of 'o' wrt to our input weights\n",
        "# the weights change as part of the optimization\n",
        "# DON'T RUN THIS CELL IF WE ARE TRYING TO GO AUTO BACKPROP\n",
        "def mental_backprop():\n",
        "  o.grad = 1.0\n",
        "  n.grad = 1 - o.data**2 # 0.5\n",
        "  b.grad = 0.5\n",
        "  x1w1x2w2.grad = 0.5\n",
        "\n",
        "  x1w1.grad = 0.5\n",
        "  x2w2.grad = 0.5\n",
        "  w1.grad = 1.0\n",
        "  w2.grad = 0\n",
        "  x1.grad = -1.5\n",
        "  x2.grad = 0.5\n",
        "# not calling this function as it has been replaced by auto backprop below\n",
        "# mental_backprop()"
      ],
      "metadata": {
        "id": "1RHjXIjHK8RV"
      },
      "execution_count": 122,
      "outputs": []
    },
    {
      "cell_type": "code",
      "source": [
        "# automatically do backprop (just a tad bit)\n",
        "def slight_auto_backprop():\n",
        "  o.grad = 1.0 # init to avoid all 0 values since grad is initialized as 0\n",
        "  o._backward()\n",
        "  n._backward()\n",
        "  b._backward() # leaf var\n",
        "  x1w1x2w2._backward()\n",
        "  x1w1._backward()\n",
        "  x2w2._backward()\n",
        "# not calling this method as we have made the backprop fully automated\n",
        "# slight_auto_backprop()"
      ],
      "metadata": {
        "id": "Q-mSTzxUpiv8"
      },
      "execution_count": 123,
      "outputs": []
    },
    {
      "cell_type": "code",
      "source": [
        "# now, instead of calling backward manually for every node, we'd want to automate it.\n",
        "\n",
        "# for this, we'll go a topological sort, starting from the end node ('o').\n",
        "# the code is now moved to the Value class\n",
        "\n",
        "o.backward()"
      ],
      "metadata": {
        "id": "Gfj-uNQzq5Q5"
      },
      "execution_count": 124,
      "outputs": []
    },
    {
      "cell_type": "code",
      "source": [
        "# we'll now break tanh into smaller chunks\n",
        "\n",
        "# inputs\n",
        "x1 = Value(2.0, label = 'x1')\n",
        "x2 = Value(0.0, label ='x2')\n",
        "\n",
        "# weights\n",
        "w1 = Value(-3.0, label = 'w1')\n",
        "w2 = Value(1.0, label = 'w2')\n",
        "\n",
        "# bias of the neuron\n",
        "b = Value(6.88137, label = 'b')\n",
        "\n",
        "#x1w1 + x2w2 + b\n",
        "\n",
        "x1w1 = x1 * w1; x1w1.label = 'x1w1'\n",
        "x2w2 = x2 * w2; x2w2.label = 'x2w2'\n",
        "x1w1x2w2 = x1w1 + x2w2; x1w1x2w2.label = 'x1w1x2w2'\n",
        "n = x1w1x2w2 + b; n.label = 'n'\n",
        "# ----------\n",
        "e = (2 * n).exp()\n",
        "o = (e - 1)/(e + 1)\n",
        "o.label = 'o'\n",
        "o.backward()\n",
        "draw_dot(o)"
      ],
      "metadata": {
        "id": "i8outLsRvFpr",
        "colab": {
          "base_uri": "https://localhost:8080/",
          "height": 321
        },
        "outputId": "9a45746e-fdfc-4056-ac4f-46928891257c"
      },
      "execution_count": 125,
      "outputs": [
        {
          "output_type": "execute_result",
          "data": {
            "image/svg+xml": "<?xml version=\"1.0\" encoding=\"UTF-8\" standalone=\"no\"?>\n<!DOCTYPE svg PUBLIC \"-//W3C//DTD SVG 1.1//EN\"\n \"http://www.w3.org/Graphics/SVG/1.1/DTD/svg11.dtd\">\n<!-- Generated by graphviz version 2.43.0 (0)\n -->\n<!-- Title: %3 Pages: 1 -->\n<svg width=\"2909pt\" height=\"210pt\"\n viewBox=\"0.00 0.00 2909.00 210.00\" xmlns=\"http://www.w3.org/2000/svg\" xmlns:xlink=\"http://www.w3.org/1999/xlink\">\n<g id=\"graph0\" class=\"graph\" transform=\"scale(1 1) rotate(0) translate(4 206)\">\n<title>%3</title>\n<polygon fill=\"white\" stroke=\"transparent\" points=\"-4,4 -4,-206 2905,-206 2905,4 -4,4\"/>\n<!-- 134797364788736 -->\n<g id=\"node1\" class=\"node\">\n<title>134797364788736</title>\n<polygon fill=\"none\" stroke=\"black\" points=\"1036,-54.5 1036,-90.5 1221,-90.5 1221,-54.5 1036,-54.5\"/>\n<text text-anchor=\"middle\" x=\"1047.5\" y=\"-68.8\" font-family=\"Times,serif\" font-size=\"14.00\">n</text>\n<polyline fill=\"none\" stroke=\"black\" points=\"1059,-54.5 1059,-90.5 \"/>\n<text text-anchor=\"middle\" x=\"1099\" y=\"-68.8\" font-family=\"Times,serif\" font-size=\"14.00\">data 0.8814</text>\n<polyline fill=\"none\" stroke=\"black\" points=\"1139,-54.5 1139,-90.5 \"/>\n<text text-anchor=\"middle\" x=\"1180\" y=\"-68.8\" font-family=\"Times,serif\" font-size=\"14.00\">grad 0.5000</text>\n</g>\n<!-- 134797364789120* -->\n<g id=\"node8\" class=\"node\">\n<title>134797364789120*</title>\n<ellipse fill=\"none\" stroke=\"black\" cx=\"1284\" cy=\"-99.5\" rx=\"27\" ry=\"18\"/>\n<text text-anchor=\"middle\" x=\"1284\" y=\"-95.8\" font-family=\"Times,serif\" font-size=\"14.00\">*</text>\n</g>\n<!-- 134797364788736&#45;&gt;134797364789120* -->\n<g id=\"edge19\" class=\"edge\">\n<title>134797364788736&#45;&gt;134797364789120*</title>\n<path fill=\"none\" stroke=\"black\" d=\"M1221.01,-88.6C1230.49,-90.26 1239.66,-91.88 1247.9,-93.33\"/>\n<polygon fill=\"black\" stroke=\"black\" points=\"1247.36,-96.78 1257.81,-95.07 1248.57,-89.89 1247.36,-96.78\"/>\n</g>\n<!-- 134797364788736+ -->\n<g id=\"node2\" class=\"node\">\n<title>134797364788736+</title>\n<ellipse fill=\"none\" stroke=\"black\" cx=\"973\" cy=\"-72.5\" rx=\"27\" ry=\"18\"/>\n<text text-anchor=\"middle\" x=\"973\" y=\"-68.8\" font-family=\"Times,serif\" font-size=\"14.00\">+</text>\n</g>\n<!-- 134797364788736+&#45;&gt;134797364788736 -->\n<g id=\"edge1\" class=\"edge\">\n<title>134797364788736+&#45;&gt;134797364788736</title>\n<path fill=\"none\" stroke=\"black\" d=\"M1000.04,-72.5C1007.58,-72.5 1016.3,-72.5 1025.57,-72.5\"/>\n<polygon fill=\"black\" stroke=\"black\" points=\"1025.81,-76 1035.81,-72.5 1025.81,-69 1025.81,-76\"/>\n</g>\n<!-- 134797364779376 -->\n<g id=\"node3\" class=\"node\">\n<title>134797364779376</title>\n<polygon fill=\"none\" stroke=\"black\" points=\"1655.5,-26.5 1655.5,-62.5 1841.5,-62.5 1841.5,-26.5 1655.5,-26.5\"/>\n<text text-anchor=\"middle\" x=\"1665.5\" y=\"-40.8\" font-family=\"Times,serif\" font-size=\"14.00\"> </text>\n<polyline fill=\"none\" stroke=\"black\" points=\"1675.5,-26.5 1675.5,-62.5 \"/>\n<text text-anchor=\"middle\" x=\"1715.5\" y=\"-40.8\" font-family=\"Times,serif\" font-size=\"14.00\">data 1.0000</text>\n<polyline fill=\"none\" stroke=\"black\" points=\"1755.5,-26.5 1755.5,-62.5 \"/>\n<text text-anchor=\"middle\" x=\"1798.5\" y=\"-40.8\" font-family=\"Times,serif\" font-size=\"14.00\">grad &#45;0.1036</text>\n</g>\n<!-- 134797364778368+ -->\n<g id=\"node22\" class=\"node\">\n<title>134797364778368+</title>\n<ellipse fill=\"none\" stroke=\"black\" cx=\"1905\" cy=\"-71.5\" rx=\"27\" ry=\"18\"/>\n<text text-anchor=\"middle\" x=\"1905\" y=\"-67.8\" font-family=\"Times,serif\" font-size=\"14.00\">+</text>\n</g>\n<!-- 134797364779376&#45;&gt;134797364778368+ -->\n<g id=\"edge16\" class=\"edge\">\n<title>134797364779376&#45;&gt;134797364778368+</title>\n<path fill=\"none\" stroke=\"black\" d=\"M1841.6,-60.6C1851.15,-62.26 1860.37,-63.88 1868.68,-65.33\"/>\n<polygon fill=\"black\" stroke=\"black\" points=\"1868.2,-68.8 1878.65,-67.07 1869.4,-61.9 1868.2,-68.8\"/>\n</g>\n<!-- 134797364775968 -->\n<g id=\"node4\" class=\"node\">\n<title>134797364775968</title>\n<polygon fill=\"none\" stroke=\"black\" points=\"2716,-80.5 2716,-116.5 2901,-116.5 2901,-80.5 2716,-80.5\"/>\n<text text-anchor=\"middle\" x=\"2727.5\" y=\"-94.8\" font-family=\"Times,serif\" font-size=\"14.00\">o</text>\n<polyline fill=\"none\" stroke=\"black\" points=\"2739,-80.5 2739,-116.5 \"/>\n<text text-anchor=\"middle\" x=\"2779\" y=\"-94.8\" font-family=\"Times,serif\" font-size=\"14.00\">data 0.7071</text>\n<polyline fill=\"none\" stroke=\"black\" points=\"2819,-80.5 2819,-116.5 \"/>\n<text text-anchor=\"middle\" x=\"2860\" y=\"-94.8\" font-family=\"Times,serif\" font-size=\"14.00\">grad 1.0000</text>\n</g>\n<!-- 134797364775968* -->\n<g id=\"node5\" class=\"node\">\n<title>134797364775968*</title>\n<ellipse fill=\"none\" stroke=\"black\" cx=\"2653\" cy=\"-98.5\" rx=\"27\" ry=\"18\"/>\n<text text-anchor=\"middle\" x=\"2653\" y=\"-94.8\" font-family=\"Times,serif\" font-size=\"14.00\">*</text>\n</g>\n<!-- 134797364775968*&#45;&gt;134797364775968 -->\n<g id=\"edge2\" class=\"edge\">\n<title>134797364775968*&#45;&gt;134797364775968</title>\n<path fill=\"none\" stroke=\"black\" d=\"M2680.04,-98.5C2687.58,-98.5 2696.3,-98.5 2705.57,-98.5\"/>\n<polygon fill=\"black\" stroke=\"black\" points=\"2705.81,-102 2715.81,-98.5 2705.81,-95 2705.81,-102\"/>\n</g>\n<!-- 134797364788256 -->\n<g id=\"node6\" class=\"node\">\n<title>134797364788256</title>\n<polygon fill=\"none\" stroke=\"black\" points=\"4,-165.5 4,-201.5 196,-201.5 196,-165.5 4,-165.5\"/>\n<text text-anchor=\"middle\" x=\"19\" y=\"-179.8\" font-family=\"Times,serif\" font-size=\"14.00\">x2</text>\n<polyline fill=\"none\" stroke=\"black\" points=\"34,-165.5 34,-201.5 \"/>\n<text text-anchor=\"middle\" x=\"74\" y=\"-179.8\" font-family=\"Times,serif\" font-size=\"14.00\">data 0.0000</text>\n<polyline fill=\"none\" stroke=\"black\" points=\"114,-165.5 114,-201.5 \"/>\n<text text-anchor=\"middle\" x=\"155\" y=\"-179.8\" font-family=\"Times,serif\" font-size=\"14.00\">grad 0.5000</text>\n</g>\n<!-- 134797364780144* -->\n<g id=\"node10\" class=\"node\">\n<title>134797364780144*</title>\n<ellipse fill=\"none\" stroke=\"black\" cx=\"263\" cy=\"-128.5\" rx=\"27\" ry=\"18\"/>\n<text text-anchor=\"middle\" x=\"263\" y=\"-124.8\" font-family=\"Times,serif\" font-size=\"14.00\">*</text>\n</g>\n<!-- 134797364788256&#45;&gt;134797364780144* -->\n<g id=\"edge25\" class=\"edge\">\n<title>134797364788256&#45;&gt;134797364780144*</title>\n<path fill=\"none\" stroke=\"black\" d=\"M172.53,-165.44C181.84,-162.67 191.2,-159.67 200,-156.5 210.53,-152.71 221.75,-147.9 231.72,-143.33\"/>\n<polygon fill=\"black\" stroke=\"black\" points=\"233.25,-146.48 240.82,-139.07 230.28,-140.14 233.25,-146.48\"/>\n</g>\n<!-- 134797364789120 -->\n<g id=\"node7\" class=\"node\">\n<title>134797364789120</title>\n<polygon fill=\"none\" stroke=\"black\" points=\"1347,-81.5 1347,-117.5 1529,-117.5 1529,-81.5 1347,-81.5\"/>\n<text text-anchor=\"middle\" x=\"1357\" y=\"-95.8\" font-family=\"Times,serif\" font-size=\"14.00\"> </text>\n<polyline fill=\"none\" stroke=\"black\" points=\"1367,-81.5 1367,-117.5 \"/>\n<text text-anchor=\"middle\" x=\"1407\" y=\"-95.8\" font-family=\"Times,serif\" font-size=\"14.00\">data 1.7627</text>\n<polyline fill=\"none\" stroke=\"black\" points=\"1447,-81.5 1447,-117.5 \"/>\n<text text-anchor=\"middle\" x=\"1488\" y=\"-95.8\" font-family=\"Times,serif\" font-size=\"14.00\">grad 0.2500</text>\n</g>\n<!-- 134797364784464exp -->\n<g id=\"node18\" class=\"node\">\n<title>134797364784464exp</title>\n<ellipse fill=\"none\" stroke=\"black\" cx=\"1592\" cy=\"-99.5\" rx=\"27\" ry=\"18\"/>\n<text text-anchor=\"middle\" x=\"1592\" y=\"-95.8\" font-family=\"Times,serif\" font-size=\"14.00\">exp</text>\n</g>\n<!-- 134797364789120&#45;&gt;134797364784464exp -->\n<g id=\"edge22\" class=\"edge\">\n<title>134797364789120&#45;&gt;134797364784464exp</title>\n<path fill=\"none\" stroke=\"black\" d=\"M1529.18,-99.5C1538.14,-99.5 1546.83,-99.5 1554.73,-99.5\"/>\n<polygon fill=\"black\" stroke=\"black\" points=\"1554.96,-103 1564.96,-99.5 1554.96,-96 1554.96,-103\"/>\n</g>\n<!-- 134797364789120*&#45;&gt;134797364789120 -->\n<g id=\"edge3\" class=\"edge\">\n<title>134797364789120*&#45;&gt;134797364789120</title>\n<path fill=\"none\" stroke=\"black\" d=\"M1311.13,-99.5C1318.67,-99.5 1327.39,-99.5 1336.64,-99.5\"/>\n<polygon fill=\"black\" stroke=\"black\" points=\"1336.87,-103 1346.87,-99.5 1336.87,-96 1336.87,-103\"/>\n</g>\n<!-- 134797364780144 -->\n<g id=\"node9\" class=\"node\">\n<title>134797364780144</title>\n<polygon fill=\"none\" stroke=\"black\" points=\"328.5,-110.5 328.5,-146.5 537.5,-146.5 537.5,-110.5 328.5,-110.5\"/>\n<text text-anchor=\"middle\" x=\"352\" y=\"-124.8\" font-family=\"Times,serif\" font-size=\"14.00\">x2w2</text>\n<polyline fill=\"none\" stroke=\"black\" points=\"375.5,-110.5 375.5,-146.5 \"/>\n<text text-anchor=\"middle\" x=\"415.5\" y=\"-124.8\" font-family=\"Times,serif\" font-size=\"14.00\">data 0.0000</text>\n<polyline fill=\"none\" stroke=\"black\" points=\"455.5,-110.5 455.5,-146.5 \"/>\n<text text-anchor=\"middle\" x=\"496.5\" y=\"-124.8\" font-family=\"Times,serif\" font-size=\"14.00\">grad 0.5000</text>\n</g>\n<!-- 134797364788496+ -->\n<g id=\"node15\" class=\"node\">\n<title>134797364788496+</title>\n<ellipse fill=\"none\" stroke=\"black\" cx=\"603\" cy=\"-100.5\" rx=\"27\" ry=\"18\"/>\n<text text-anchor=\"middle\" x=\"603\" y=\"-96.8\" font-family=\"Times,serif\" font-size=\"14.00\">+</text>\n</g>\n<!-- 134797364780144&#45;&gt;134797364788496+ -->\n<g id=\"edge24\" class=\"edge\">\n<title>134797364780144&#45;&gt;134797364788496+</title>\n<path fill=\"none\" stroke=\"black\" d=\"M537.53,-111.25C547.8,-109.53 557.66,-107.89 566.45,-106.43\"/>\n<polygon fill=\"black\" stroke=\"black\" points=\"567.3,-109.83 576.59,-104.74 566.15,-102.93 567.3,-109.83\"/>\n</g>\n<!-- 134797364780144*&#45;&gt;134797364780144 -->\n<g id=\"edge4\" class=\"edge\">\n<title>134797364780144*&#45;&gt;134797364780144</title>\n<path fill=\"none\" stroke=\"black\" d=\"M290.25,-128.5C298.43,-128.5 308.03,-128.5 318.31,-128.5\"/>\n<polygon fill=\"black\" stroke=\"black\" points=\"318.35,-132 328.35,-128.5 318.35,-125 318.35,-132\"/>\n</g>\n<!-- 134797364787824 -->\n<g id=\"node11\" class=\"node\">\n<title>134797364787824</title>\n<polygon fill=\"none\" stroke=\"black\" points=\"2.5,-110.5 2.5,-146.5 197.5,-146.5 197.5,-110.5 2.5,-110.5\"/>\n<text text-anchor=\"middle\" x=\"19\" y=\"-124.8\" font-family=\"Times,serif\" font-size=\"14.00\">w2</text>\n<polyline fill=\"none\" stroke=\"black\" points=\"35.5,-110.5 35.5,-146.5 \"/>\n<text text-anchor=\"middle\" x=\"75.5\" y=\"-124.8\" font-family=\"Times,serif\" font-size=\"14.00\">data 1.0000</text>\n<polyline fill=\"none\" stroke=\"black\" points=\"115.5,-110.5 115.5,-146.5 \"/>\n<text text-anchor=\"middle\" x=\"156.5\" y=\"-124.8\" font-family=\"Times,serif\" font-size=\"14.00\">grad 0.0000</text>\n</g>\n<!-- 134797364787824&#45;&gt;134797364780144* -->\n<g id=\"edge26\" class=\"edge\">\n<title>134797364787824&#45;&gt;134797364780144*</title>\n<path fill=\"none\" stroke=\"black\" d=\"M197.91,-128.5C207.65,-128.5 217.05,-128.5 225.52,-128.5\"/>\n<polygon fill=\"black\" stroke=\"black\" points=\"225.7,-132 235.7,-128.5 225.7,-125 225.7,-132\"/>\n</g>\n<!-- 134797364773808 -->\n<g id=\"node12\" class=\"node\">\n<title>134797364773808</title>\n<polygon fill=\"none\" stroke=\"black\" points=\"2,-55.5 2,-91.5 198,-91.5 198,-55.5 2,-55.5\"/>\n<text text-anchor=\"middle\" x=\"17\" y=\"-69.8\" font-family=\"Times,serif\" font-size=\"14.00\">x1</text>\n<polyline fill=\"none\" stroke=\"black\" points=\"32,-55.5 32,-91.5 \"/>\n<text text-anchor=\"middle\" x=\"72\" y=\"-69.8\" font-family=\"Times,serif\" font-size=\"14.00\">data 2.0000</text>\n<polyline fill=\"none\" stroke=\"black\" points=\"112,-55.5 112,-91.5 \"/>\n<text text-anchor=\"middle\" x=\"155\" y=\"-69.8\" font-family=\"Times,serif\" font-size=\"14.00\">grad &#45;1.5000</text>\n</g>\n<!-- 134797364788208* -->\n<g id=\"node28\" class=\"node\">\n<title>134797364788208*</title>\n<ellipse fill=\"none\" stroke=\"black\" cx=\"263\" cy=\"-73.5\" rx=\"27\" ry=\"18\"/>\n<text text-anchor=\"middle\" x=\"263\" y=\"-69.8\" font-family=\"Times,serif\" font-size=\"14.00\">*</text>\n</g>\n<!-- 134797364773808&#45;&gt;134797364788208* -->\n<g id=\"edge15\" class=\"edge\">\n<title>134797364773808&#45;&gt;134797364788208*</title>\n<path fill=\"none\" stroke=\"black\" d=\"M198.37,-73.5C208.05,-73.5 217.4,-73.5 225.8,-73.5\"/>\n<polygon fill=\"black\" stroke=\"black\" points=\"225.91,-77 235.91,-73.5 225.91,-70 225.91,-77\"/>\n</g>\n<!-- 134797364785520 -->\n<g id=\"node13\" class=\"node\">\n<title>134797364785520</title>\n<polygon fill=\"none\" stroke=\"black\" points=\"1655,-136.5 1655,-172.5 1842,-172.5 1842,-136.5 1655,-136.5\"/>\n<text text-anchor=\"middle\" x=\"1665\" y=\"-150.8\" font-family=\"Times,serif\" font-size=\"14.00\"> </text>\n<polyline fill=\"none\" stroke=\"black\" points=\"1675,-136.5 1675,-172.5 \"/>\n<text text-anchor=\"middle\" x=\"1717.5\" y=\"-150.8\" font-family=\"Times,serif\" font-size=\"14.00\">data &#45;1.0000</text>\n<polyline fill=\"none\" stroke=\"black\" points=\"1760,-136.5 1760,-172.5 \"/>\n<text text-anchor=\"middle\" x=\"1801\" y=\"-150.8\" font-family=\"Times,serif\" font-size=\"14.00\">grad 0.1464</text>\n</g>\n<!-- 134797364786624+ -->\n<g id=\"node26\" class=\"node\">\n<title>134797364786624+</title>\n<ellipse fill=\"none\" stroke=\"black\" cx=\"1905\" cy=\"-126.5\" rx=\"27\" ry=\"18\"/>\n<text text-anchor=\"middle\" x=\"1905\" y=\"-122.8\" font-family=\"Times,serif\" font-size=\"14.00\">+</text>\n</g>\n<!-- 134797364785520&#45;&gt;134797364786624+ -->\n<g id=\"edge28\" class=\"edge\">\n<title>134797364785520&#45;&gt;134797364786624+</title>\n<path fill=\"none\" stroke=\"black\" d=\"M1842.05,-137.73C1851.54,-136.01 1860.71,-134.35 1868.95,-132.85\"/>\n<polygon fill=\"black\" stroke=\"black\" points=\"1869.64,-136.28 1878.85,-131.06 1868.39,-129.4 1869.64,-136.28\"/>\n</g>\n<!-- 134797364788496 -->\n<g id=\"node14\" class=\"node\">\n<title>134797364788496</title>\n<polygon fill=\"none\" stroke=\"black\" points=\"666,-82.5 666,-118.5 910,-118.5 910,-82.5 666,-82.5\"/>\n<text text-anchor=\"middle\" x=\"704.5\" y=\"-96.8\" font-family=\"Times,serif\" font-size=\"14.00\">x1w1x2w2</text>\n<polyline fill=\"none\" stroke=\"black\" points=\"743,-82.5 743,-118.5 \"/>\n<text text-anchor=\"middle\" x=\"785.5\" y=\"-96.8\" font-family=\"Times,serif\" font-size=\"14.00\">data &#45;6.0000</text>\n<polyline fill=\"none\" stroke=\"black\" points=\"828,-82.5 828,-118.5 \"/>\n<text text-anchor=\"middle\" x=\"869\" y=\"-96.8\" font-family=\"Times,serif\" font-size=\"14.00\">grad 0.5000</text>\n</g>\n<!-- 134797364788496&#45;&gt;134797364788736+ -->\n<g id=\"edge23\" class=\"edge\">\n<title>134797364788496&#45;&gt;134797364788736+</title>\n<path fill=\"none\" stroke=\"black\" d=\"M906.71,-82.49C917.38,-80.86 927.53,-79.3 936.51,-77.93\"/>\n<polygon fill=\"black\" stroke=\"black\" points=\"937.13,-81.38 946.48,-76.4 936.07,-74.46 937.13,-81.38\"/>\n</g>\n<!-- 134797364788496+&#45;&gt;134797364788496 -->\n<g id=\"edge5\" class=\"edge\">\n<title>134797364788496+&#45;&gt;134797364788496</title>\n<path fill=\"none\" stroke=\"black\" d=\"M630.22,-100.5C637.7,-100.5 646.4,-100.5 655.79,-100.5\"/>\n<polygon fill=\"black\" stroke=\"black\" points=\"655.8,-104 665.8,-100.5 655.8,-97 655.8,-104\"/>\n</g>\n<!-- 134797364781344 -->\n<g id=\"node16\" class=\"node\">\n<title>134797364781344</title>\n<polygon fill=\"none\" stroke=\"black\" points=\"0,-0.5 0,-36.5 200,-36.5 200,-0.5 0,-0.5\"/>\n<text text-anchor=\"middle\" x=\"16.5\" y=\"-14.8\" font-family=\"Times,serif\" font-size=\"14.00\">w1</text>\n<polyline fill=\"none\" stroke=\"black\" points=\"33,-0.5 33,-36.5 \"/>\n<text text-anchor=\"middle\" x=\"75.5\" y=\"-14.8\" font-family=\"Times,serif\" font-size=\"14.00\">data &#45;3.0000</text>\n<polyline fill=\"none\" stroke=\"black\" points=\"118,-0.5 118,-36.5 \"/>\n<text text-anchor=\"middle\" x=\"159\" y=\"-14.8\" font-family=\"Times,serif\" font-size=\"14.00\">grad 1.0000</text>\n</g>\n<!-- 134797364781344&#45;&gt;134797364788208* -->\n<g id=\"edge11\" class=\"edge\">\n<title>134797364781344&#45;&gt;134797364788208*</title>\n<path fill=\"none\" stroke=\"black\" d=\"M172.53,-36.56C181.84,-39.33 191.2,-42.33 200,-45.5 210.53,-49.29 221.75,-54.1 231.72,-58.67\"/>\n<polygon fill=\"black\" stroke=\"black\" points=\"230.28,-61.86 240.82,-62.93 233.25,-55.52 230.28,-61.86\"/>\n</g>\n<!-- 134797364784464 -->\n<g id=\"node17\" class=\"node\">\n<title>134797364784464</title>\n<polygon fill=\"none\" stroke=\"black\" points=\"1657.5,-81.5 1657.5,-117.5 1839.5,-117.5 1839.5,-81.5 1657.5,-81.5\"/>\n<text text-anchor=\"middle\" x=\"1667.5\" y=\"-95.8\" font-family=\"Times,serif\" font-size=\"14.00\"> </text>\n<polyline fill=\"none\" stroke=\"black\" points=\"1677.5,-81.5 1677.5,-117.5 \"/>\n<text text-anchor=\"middle\" x=\"1717.5\" y=\"-95.8\" font-family=\"Times,serif\" font-size=\"14.00\">data 5.8284</text>\n<polyline fill=\"none\" stroke=\"black\" points=\"1757.5,-81.5 1757.5,-117.5 \"/>\n<text text-anchor=\"middle\" x=\"1798.5\" y=\"-95.8\" font-family=\"Times,serif\" font-size=\"14.00\">grad 0.0429</text>\n</g>\n<!-- 134797364784464&#45;&gt;134797364778368+ -->\n<g id=\"edge21\" class=\"edge\">\n<title>134797364784464&#45;&gt;134797364778368+</title>\n<path fill=\"none\" stroke=\"black\" d=\"M1839.82,-83.13C1850.07,-81.27 1860.01,-79.47 1868.88,-77.87\"/>\n<polygon fill=\"black\" stroke=\"black\" points=\"1869.54,-81.3 1878.75,-76.08 1868.29,-74.42 1869.54,-81.3\"/>\n</g>\n<!-- 134797364784464&#45;&gt;134797364786624+ -->\n<g id=\"edge14\" class=\"edge\">\n<title>134797364784464&#45;&gt;134797364786624+</title>\n<path fill=\"none\" stroke=\"black\" d=\"M1839.82,-115.28C1850.07,-117.08 1860.01,-118.81 1868.88,-120.36\"/>\n<polygon fill=\"black\" stroke=\"black\" points=\"1868.3,-123.81 1878.75,-122.09 1869.5,-116.92 1868.3,-123.81\"/>\n</g>\n<!-- 134797364784464exp&#45;&gt;134797364784464 -->\n<g id=\"edge6\" class=\"edge\">\n<title>134797364784464exp&#45;&gt;134797364784464</title>\n<path fill=\"none\" stroke=\"black\" d=\"M1619.21,-99.5C1627.34,-99.5 1636.85,-99.5 1646.94,-99.5\"/>\n<polygon fill=\"black\" stroke=\"black\" points=\"1647.19,-103 1657.19,-99.5 1647.19,-96 1647.19,-103\"/>\n</g>\n<!-- 134797364788064 -->\n<g id=\"node19\" class=\"node\">\n<title>134797364788064</title>\n<polygon fill=\"none\" stroke=\"black\" points=\"695.5,-27.5 695.5,-63.5 880.5,-63.5 880.5,-27.5 695.5,-27.5\"/>\n<text text-anchor=\"middle\" x=\"707\" y=\"-41.8\" font-family=\"Times,serif\" font-size=\"14.00\">b</text>\n<polyline fill=\"none\" stroke=\"black\" points=\"718.5,-27.5 718.5,-63.5 \"/>\n<text text-anchor=\"middle\" x=\"758.5\" y=\"-41.8\" font-family=\"Times,serif\" font-size=\"14.00\">data 6.8814</text>\n<polyline fill=\"none\" stroke=\"black\" points=\"798.5,-27.5 798.5,-63.5 \"/>\n<text text-anchor=\"middle\" x=\"839.5\" y=\"-41.8\" font-family=\"Times,serif\" font-size=\"14.00\">grad 0.5000</text>\n</g>\n<!-- 134797364788064&#45;&gt;134797364788736+ -->\n<g id=\"edge27\" class=\"edge\">\n<title>134797364788064&#45;&gt;134797364788736+</title>\n<path fill=\"none\" stroke=\"black\" d=\"M880.77,-59.04C900.52,-61.95 920.26,-64.87 936.29,-67.23\"/>\n<polygon fill=\"black\" stroke=\"black\" points=\"935.86,-70.71 946.26,-68.7 936.88,-63.78 935.86,-70.71\"/>\n</g>\n<!-- 134797364789072 -->\n<g id=\"node20\" class=\"node\">\n<title>134797364789072</title>\n<polygon fill=\"none\" stroke=\"black\" points=\"1037.5,-109.5 1037.5,-145.5 1219.5,-145.5 1219.5,-109.5 1037.5,-109.5\"/>\n<text text-anchor=\"middle\" x=\"1047.5\" y=\"-123.8\" font-family=\"Times,serif\" font-size=\"14.00\"> </text>\n<polyline fill=\"none\" stroke=\"black\" points=\"1057.5,-109.5 1057.5,-145.5 \"/>\n<text text-anchor=\"middle\" x=\"1097.5\" y=\"-123.8\" font-family=\"Times,serif\" font-size=\"14.00\">data 2.0000</text>\n<polyline fill=\"none\" stroke=\"black\" points=\"1137.5,-109.5 1137.5,-145.5 \"/>\n<text text-anchor=\"middle\" x=\"1178.5\" y=\"-123.8\" font-family=\"Times,serif\" font-size=\"14.00\">grad 0.2203</text>\n</g>\n<!-- 134797364789072&#45;&gt;134797364789120* -->\n<g id=\"edge18\" class=\"edge\">\n<title>134797364789072&#45;&gt;134797364789120*</title>\n<path fill=\"none\" stroke=\"black\" d=\"M1219.68,-111.05C1229.61,-109.24 1239.23,-107.48 1247.84,-105.91\"/>\n<polygon fill=\"black\" stroke=\"black\" points=\"1248.6,-109.33 1257.81,-104.09 1247.35,-102.45 1248.6,-109.33\"/>\n</g>\n<!-- 134797364778368 -->\n<g id=\"node21\" class=\"node\">\n<title>134797364778368</title>\n<polygon fill=\"none\" stroke=\"black\" points=\"1968,-53.5 1968,-89.5 2154,-89.5 2154,-53.5 1968,-53.5\"/>\n<text text-anchor=\"middle\" x=\"1978\" y=\"-67.8\" font-family=\"Times,serif\" font-size=\"14.00\"> </text>\n<polyline fill=\"none\" stroke=\"black\" points=\"1988,-53.5 1988,-89.5 \"/>\n<text text-anchor=\"middle\" x=\"2028\" y=\"-67.8\" font-family=\"Times,serif\" font-size=\"14.00\">data 6.8284</text>\n<polyline fill=\"none\" stroke=\"black\" points=\"2068,-53.5 2068,-89.5 \"/>\n<text text-anchor=\"middle\" x=\"2111\" y=\"-67.8\" font-family=\"Times,serif\" font-size=\"14.00\">grad &#45;0.1036</text>\n</g>\n<!-- 134797364789168**&#45;1 -->\n<g id=\"node24\" class=\"node\">\n<title>134797364789168**&#45;1</title>\n<ellipse fill=\"none\" stroke=\"black\" cx=\"2281\" cy=\"-71.5\" rx=\"27\" ry=\"18\"/>\n<text text-anchor=\"middle\" x=\"2281\" y=\"-67.8\" font-family=\"Times,serif\" font-size=\"14.00\">**&#45;1</text>\n</g>\n<!-- 134797364778368&#45;&gt;134797364789168**&#45;1 -->\n<g id=\"edge13\" class=\"edge\">\n<title>134797364778368&#45;&gt;134797364789168**&#45;1</title>\n<path fill=\"none\" stroke=\"black\" d=\"M2154.14,-71.5C2185.72,-71.5 2219.24,-71.5 2243.74,-71.5\"/>\n<polygon fill=\"black\" stroke=\"black\" points=\"2243.98,-75 2253.98,-71.5 2243.98,-68 2243.98,-75\"/>\n</g>\n<!-- 134797364778368+&#45;&gt;134797364778368 -->\n<g id=\"edge7\" class=\"edge\">\n<title>134797364778368+&#45;&gt;134797364778368</title>\n<path fill=\"none\" stroke=\"black\" d=\"M1932.12,-71.5C1939.62,-71.5 1948.29,-71.5 1957.5,-71.5\"/>\n<polygon fill=\"black\" stroke=\"black\" points=\"1957.69,-75 1967.69,-71.5 1957.69,-68 1957.69,-75\"/>\n</g>\n<!-- 134797364789168 -->\n<g id=\"node23\" class=\"node\">\n<title>134797364789168</title>\n<polygon fill=\"none\" stroke=\"black\" points=\"2408,-57.5 2408,-93.5 2590,-93.5 2590,-57.5 2408,-57.5\"/>\n<text text-anchor=\"middle\" x=\"2418\" y=\"-71.8\" font-family=\"Times,serif\" font-size=\"14.00\"> </text>\n<polyline fill=\"none\" stroke=\"black\" points=\"2428,-57.5 2428,-93.5 \"/>\n<text text-anchor=\"middle\" x=\"2468\" y=\"-71.8\" font-family=\"Times,serif\" font-size=\"14.00\">data 0.1464</text>\n<polyline fill=\"none\" stroke=\"black\" points=\"2508,-57.5 2508,-93.5 \"/>\n<text text-anchor=\"middle\" x=\"2549\" y=\"-71.8\" font-family=\"Times,serif\" font-size=\"14.00\">grad 4.8284</text>\n</g>\n<!-- 134797364789168&#45;&gt;134797364775968* -->\n<g id=\"edge12\" class=\"edge\">\n<title>134797364789168&#45;&gt;134797364775968*</title>\n<path fill=\"none\" stroke=\"black\" d=\"M2590.18,-89.15C2599.42,-90.54 2608.38,-91.9 2616.47,-93.12\"/>\n<polygon fill=\"black\" stroke=\"black\" points=\"2616.15,-96.61 2626.56,-94.65 2617.19,-89.69 2616.15,-96.61\"/>\n</g>\n<!-- 134797364789168**&#45;1&#45;&gt;134797364789168 -->\n<g id=\"edge8\" class=\"edge\">\n<title>134797364789168**&#45;1&#45;&gt;134797364789168</title>\n<path fill=\"none\" stroke=\"black\" d=\"M2308.05,-71.98C2330.53,-72.4 2364.48,-73.03 2397.5,-73.64\"/>\n<polygon fill=\"black\" stroke=\"black\" points=\"2397.64,-77.14 2407.7,-73.83 2397.77,-70.14 2397.64,-77.14\"/>\n</g>\n<!-- 134797364786624 -->\n<g id=\"node25\" class=\"node\">\n<title>134797364786624</title>\n<polygon fill=\"none\" stroke=\"black\" points=\"2190,-108.5 2190,-144.5 2372,-144.5 2372,-108.5 2190,-108.5\"/>\n<text text-anchor=\"middle\" x=\"2200\" y=\"-122.8\" font-family=\"Times,serif\" font-size=\"14.00\"> </text>\n<polyline fill=\"none\" stroke=\"black\" points=\"2210,-108.5 2210,-144.5 \"/>\n<text text-anchor=\"middle\" x=\"2250\" y=\"-122.8\" font-family=\"Times,serif\" font-size=\"14.00\">data 4.8284</text>\n<polyline fill=\"none\" stroke=\"black\" points=\"2290,-108.5 2290,-144.5 \"/>\n<text text-anchor=\"middle\" x=\"2331\" y=\"-122.8\" font-family=\"Times,serif\" font-size=\"14.00\">grad 0.1464</text>\n</g>\n<!-- 134797364786624&#45;&gt;134797364775968* -->\n<g id=\"edge17\" class=\"edge\">\n<title>134797364786624&#45;&gt;134797364775968*</title>\n<path fill=\"none\" stroke=\"black\" d=\"M2372.31,-119.9C2433.7,-115.37 2516.76,-109.19 2590,-103.5 2598.42,-102.85 2607.48,-102.13 2616.01,-101.44\"/>\n<polygon fill=\"black\" stroke=\"black\" points=\"2616.37,-104.92 2626.06,-100.63 2615.81,-97.94 2616.37,-104.92\"/>\n</g>\n<!-- 134797364786624+&#45;&gt;134797364786624 -->\n<g id=\"edge9\" class=\"edge\">\n<title>134797364786624+&#45;&gt;134797364786624</title>\n<path fill=\"none\" stroke=\"black\" d=\"M1932,-126.5C1982.46,-126.5 2096.06,-126.5 2179.81,-126.5\"/>\n<polygon fill=\"black\" stroke=\"black\" points=\"2179.87,-130 2189.87,-126.5 2179.87,-123 2179.87,-130\"/>\n</g>\n<!-- 134797364788208 -->\n<g id=\"node27\" class=\"node\">\n<title>134797364788208</title>\n<polygon fill=\"none\" stroke=\"black\" points=\"326,-55.5 326,-91.5 540,-91.5 540,-55.5 326,-55.5\"/>\n<text text-anchor=\"middle\" x=\"349.5\" y=\"-69.8\" font-family=\"Times,serif\" font-size=\"14.00\">x1w1</text>\n<polyline fill=\"none\" stroke=\"black\" points=\"373,-55.5 373,-91.5 \"/>\n<text text-anchor=\"middle\" x=\"415.5\" y=\"-69.8\" font-family=\"Times,serif\" font-size=\"14.00\">data &#45;6.0000</text>\n<polyline fill=\"none\" stroke=\"black\" points=\"458,-55.5 458,-91.5 \"/>\n<text text-anchor=\"middle\" x=\"499\" y=\"-69.8\" font-family=\"Times,serif\" font-size=\"14.00\">grad 0.5000</text>\n</g>\n<!-- 134797364788208&#45;&gt;134797364788496+ -->\n<g id=\"edge20\" class=\"edge\">\n<title>134797364788208&#45;&gt;134797364788496+</title>\n<path fill=\"none\" stroke=\"black\" d=\"M540.4,-90.6C549.72,-92.1 558.65,-93.53 566.68,-94.82\"/>\n<polygon fill=\"black\" stroke=\"black\" points=\"566.24,-98.3 576.66,-96.43 567.35,-91.39 566.24,-98.3\"/>\n</g>\n<!-- 134797364788208*&#45;&gt;134797364788208 -->\n<g id=\"edge10\" class=\"edge\">\n<title>134797364788208*&#45;&gt;134797364788208</title>\n<path fill=\"none\" stroke=\"black\" d=\"M290.25,-73.5C297.7,-73.5 306.34,-73.5 315.59,-73.5\"/>\n<polygon fill=\"black\" stroke=\"black\" points=\"315.84,-77 325.84,-73.5 315.84,-70 315.84,-77\"/>\n</g>\n</g>\n</svg>\n",
            "text/plain": [
              "<graphviz.graphs.Digraph at 0x7a98f4f50080>"
            ]
          },
          "metadata": {},
          "execution_count": 125
        }
      ]
    },
    {
      "cell_type": "code",
      "source": [
        "# we'll now see how we can do this with pytorch !!!!!"
      ],
      "metadata": {
        "id": "I1spqtOOGEyF"
      },
      "execution_count": 126,
      "outputs": []
    },
    {
      "cell_type": "code",
      "source": [
        "import torch"
      ],
      "metadata": {
        "id": "CdGNBZI2HPHA"
      },
      "execution_count": 127,
      "outputs": []
    },
    {
      "cell_type": "code",
      "source": [
        "# sample tensor\n",
        "torch.Tensor([[1,2,3], [4,5,6]]).shape"
      ],
      "metadata": {
        "colab": {
          "base_uri": "https://localhost:8080/"
        },
        "id": "WUlltQURIMdz",
        "outputId": "e056f5c3-80ca-4921-f982-78feec17aaa8"
      },
      "execution_count": 128,
      "outputs": [
        {
          "output_type": "execute_result",
          "data": {
            "text/plain": [
              "torch.Size([2, 3])"
            ]
          },
          "metadata": {},
          "execution_count": 128
        }
      ]
    },
    {
      "cell_type": "code",
      "source": [
        "torch.Tensor([2.0]).shape"
      ],
      "metadata": {
        "colab": {
          "base_uri": "https://localhost:8080/"
        },
        "id": "ybze_36jIeGv",
        "outputId": "f76f0c09-5639-4178-d447-8cd3a0b8a5c6"
      },
      "execution_count": 129,
      "outputs": [
        {
          "output_type": "execute_result",
          "data": {
            "text/plain": [
              "torch.Size([1])"
            ]
          },
          "metadata": {},
          "execution_count": 129
        }
      ]
    },
    {
      "cell_type": "code",
      "source": [
        "x1 = torch.Tensor([2.0]).double() ; x1.requires_grad = True\n",
        "x2 = torch.Tensor([0.0]).double() ; x2.requires_grad = True\n",
        "\n",
        "w1 = torch.Tensor([-3.0]).double() ; w1.requires_grad = True\n",
        "w2 = torch.Tensor([1.0]).double() ; w2.requires_grad = True\n",
        "b = torch.Tensor([6.88137]).double() ; b.requires_grad = True\n",
        "\n",
        "n = x1*w1 + x2*w2 + b\n",
        "\n",
        "o = torch.tanh(n)\n",
        "print(o.data.item())\n",
        "o.backward()\n",
        "\n",
        "print('----')\n",
        "print('x2 ', x2.grad.item())\n",
        "print('w2 ', w2.grad.item())\n",
        "print('x1 ', x1.grad.item())\n",
        "print('w1 ', w1.grad.item())\n",
        "\n",
        "\n"
      ],
      "metadata": {
        "colab": {
          "base_uri": "https://localhost:8080/"
        },
        "id": "sYdRHEwBHPuu",
        "outputId": "b036f9e1-b05b-47a1-f49e-400023335e66"
      },
      "execution_count": 130,
      "outputs": [
        {
          "output_type": "stream",
          "name": "stdout",
          "text": [
            "0.7071050214706146\n",
            "----\n",
            "x2  0.5000024886110417\n",
            "w2  0.0\n",
            "x1  -1.500007465833125\n",
            "w1  1.0000049772220834\n"
          ]
        }
      ]
    },
    {
      "cell_type": "code",
      "source": [
        "o"
      ],
      "metadata": {
        "colab": {
          "base_uri": "https://localhost:8080/"
        },
        "id": "C4wGGwaJH7hi",
        "outputId": "58d573f6-5782-4536-99f4-166566d54cfa"
      },
      "execution_count": 131,
      "outputs": [
        {
          "output_type": "execute_result",
          "data": {
            "text/plain": [
              "tensor([0.7071], dtype=torch.float64, grad_fn=<TanhBackward0>)"
            ]
          },
          "metadata": {},
          "execution_count": 131
        }
      ]
    },
    {
      "cell_type": "code",
      "source": [
        "import random\n",
        "\n",
        "class Neuron:\n",
        "  def __init__(self, nin): # nin = number of inputs to this neuron\n",
        "    self.w = [Value(random.uniform(-1,1)) for _ in range(nin)]\n",
        "    self.b = Value(random.uniform(-1,1)) # trigger happiness of this neuron\n",
        "  def __call__(self, x):\n",
        "    # intent: w*x + b where the first part is a dot product\n",
        "    # zip takes two iterators, creates a new iterator that has tuples of corresponding entries\n",
        "    act = sum((wi*xi for wi,xi in zip(self.w, x)), self.b)\n",
        "    out = act.tanh()\n",
        "    return out\n",
        "  def parameters(self):\n",
        "    return self.w + [self.b]\n",
        "\n",
        "x = [2.0, 3.0]\n",
        "n = Neuron(2)\n",
        "n(x)\n"
      ],
      "metadata": {
        "colab": {
          "base_uri": "https://localhost:8080/"
        },
        "id": "Kxw3sxRrJHWG",
        "outputId": "bb88a8a6-3454-421a-84b9-435fd3d44b87"
      },
      "execution_count": 171,
      "outputs": [
        {
          "output_type": "execute_result",
          "data": {
            "text/plain": [
              "Value(data=0.9852347986729847,label=,op=tanh)"
            ]
          },
          "metadata": {},
          "execution_count": 171
        }
      ]
    },
    {
      "cell_type": "code",
      "source": [
        "class Layer:\n",
        "  # nout = number of neurons we want in our layer\n",
        "  # nin = number of inputs we have, stays the same for each neuron\n",
        "  def __init__(self, nin, nout):\n",
        "    self.neurons = [Neuron(nin) for _ in range(nout)]\n",
        "\n",
        "  def __call__(self, x):\n",
        "    outs = [n(x) for n in self.neurons]\n",
        "    return outs[0] if len(outs) == 1 else outs\n",
        "\n",
        "  # gather all learnable params from each neuron into one flat lis\n",
        "  def parameters(self):\n",
        "    return [p for neuron in self.neurons for p in neuron.parameters()]\n",
        "    # params = []\n",
        "    # for neuron in self.neurons:\n",
        "    #   ps = neuron.parameters()\n",
        "    #   params.extend(ps)\n",
        "    # return params\n",
        "\n",
        "x = [2.0, 3.0]\n",
        "n = Layer(2, 3)\n",
        "n(x)"
      ],
      "metadata": {
        "colab": {
          "base_uri": "https://localhost:8080/"
        },
        "id": "0LeFJDwvLFlZ",
        "outputId": "b2da0dc9-2407-4649-92af-4065dd3629e5"
      },
      "execution_count": 173,
      "outputs": [
        {
          "output_type": "execute_result",
          "data": {
            "text/plain": [
              "[Value(data=-0.8814482289927231,label=,op=tanh),\n",
              " Value(data=-0.8709570235661542,label=,op=tanh),\n",
              " Value(data=0.9848478142996293,label=,op=tanh)]"
            ]
          },
          "metadata": {},
          "execution_count": 173
        }
      ]
    },
    {
      "cell_type": "code",
      "source": [
        "class MLP:\n",
        "  # nin = number of inputs\n",
        "  # nouts = a list of number of neurons in a layer. the list defines the sizes of all layers we want in the MLP\n",
        "  def __init__(self, nin, nouts):\n",
        "    sz = [nin] + nouts # concatenates lists, if nin = 3 and nouts = [16, 16, 1], then sz = [3, 16, 16, 1]\n",
        "    # first layer has shape 3 * 16 (ins * outs)\n",
        "    # second layer has shape 16 * 16\n",
        "    # rthird layer has shape 16 * 1\n",
        "    self.layers = [Layer(sz[i], sz[i + 1]) for i in range(len(nouts))]\n",
        "\n",
        "  def __call__(self, x):\n",
        "    for layer in self.layers:\n",
        "      x = layer(x)\n",
        "    return x\n",
        "  def parameters(self):\n",
        "    return [p for layer in self.layers for p in layer.parameters()]"
      ],
      "metadata": {
        "id": "hR_zAY2JPA8t"
      },
      "execution_count": 176,
      "outputs": []
    },
    {
      "cell_type": "code",
      "source": [
        "n.parameters()"
      ],
      "metadata": {
        "id": "I4-EZPShYveF"
      },
      "execution_count": null,
      "outputs": []
    },
    {
      "cell_type": "code",
      "source": [
        "# re-init MLP\n",
        "x = [2.0, 3.0, -1.0]\n",
        "n = MLP(3, [4, 4, 1])\n",
        "n(x)"
      ],
      "metadata": {
        "colab": {
          "base_uri": "https://localhost:8080/"
        },
        "id": "oZWKnqRdYslK",
        "outputId": "44315ae7-b6a8-4f6b-9719-0e49b67e4815"
      },
      "execution_count": 266,
      "outputs": [
        {
          "output_type": "execute_result",
          "data": {
            "text/plain": [
              "Value(data=0.6322211505734971,label=,op=tanh)"
            ]
          },
          "metadata": {},
          "execution_count": 266
        }
      ]
    },
    {
      "cell_type": "code",
      "source": [
        "draw_dot(n(x))"
      ],
      "metadata": {
        "id": "7-2_7jDTQ1wH"
      },
      "execution_count": null,
      "outputs": []
    },
    {
      "cell_type": "code",
      "source": [
        "# four possible inputs\n",
        "xs = [\n",
        "\n",
        "      [2.0, 3.0, -1.0],\n",
        "      [3.0, -1.0, 0.5],\n",
        "      [0.5, 1.0, 1.0],\n",
        "      [1.0, 1.0, -1.0]\n",
        "]\n",
        "\n",
        "ys = [1.0, -1.0, -1.0, 1.0] # desired targets"
      ],
      "metadata": {
        "id": "M8JWvUm_RDnt"
      },
      "execution_count": 267,
      "outputs": []
    },
    {
      "cell_type": "code",
      "source": [
        "for k in range(20):\n",
        "  # forward pass\n",
        "  ypred = [n(x) for x in xs]\n",
        "\n",
        "  # we'll now use the loss function to push each y-value closer to the desired target\n",
        "  # mean squared error loss\n",
        "  loss = sum([(yout - ygt)**2 for ygt, yout in zip(ys, ypred)])\n",
        "\n",
        "  # zero grad before backward pass\n",
        "  for p in n.parameters():\n",
        "    p.grad = 0\n",
        "\n",
        "  # now do the backward pass\n",
        "  loss.backward()\n",
        "\n",
        "  # update params\n",
        "  # gradient is a vector pointing in the direction of increased loss\n",
        "  for p in n.parameters():\n",
        "    p.data += -0.01 * p.grad # 0.01 is the learning rate\n",
        "\n",
        "  print(k, loss.data, )"
      ],
      "metadata": {
        "id": "_MoU9g-yRgAC"
      },
      "execution_count": null,
      "outputs": []
    },
    {
      "cell_type": "code",
      "source": [
        "draw_dot(loss)"
      ],
      "metadata": {
        "id": "DwaZSzYRWssL"
      },
      "execution_count": null,
      "outputs": []
    },
    {
      "cell_type": "code",
      "source": [
        "ypred"
      ],
      "metadata": {
        "id": "F3n3PMSjbBg0"
      },
      "execution_count": null,
      "outputs": []
    },
    {
      "cell_type": "code",
      "source": [],
      "metadata": {
        "id": "GM1WXYKNbwte"
      },
      "execution_count": null,
      "outputs": []
    }
  ]
}